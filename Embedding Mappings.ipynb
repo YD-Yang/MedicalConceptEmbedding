{
 "cells": [
  {
   "cell_type": "code",
   "execution_count": 1,
   "metadata": {},
   "outputs": [],
   "source": [
    "from __future__ import division\n",
    "import argparse\n",
    "import numpy as np\n",
    "import scipy as sp\n",
    "from scipy.spatial.distance import cosine\n",
    "import gzip"
   ]
  },
  {
   "cell_type": "markdown",
   "metadata": {},
   "source": [
    "# Embedding for Medical Concept\n",
    "\n",
    "Results from paper\n",
    "<b> Y. Choi, Y. Chiu, D. Sontag. <a href=\"http://cs.nyu.edu/~dsontag/papers/ChoiChiuSontag_AMIA_CRI16.pdf\">Learning Low-Dimensional Representations of Medical Concepts</a>. Published in Proceedings of the AMIA Summit on Clinical Research Informatics (CRI), 2016.</b>\n",
    "\n",
    " `claims_codes_hs_300.txt.gz`: Embeddings of ICD-9 diagnosis and procedure codes, NDC medication codes, and LOINC laboratory codes, derived from a large claims dataset from 2005 to 2013 for roughly 4 million people.\n",
    "\n"
   ]
  },
  {
   "cell_type": "markdown",
   "metadata": {},
   "source": [
    "### Load the CUI, ICD9, NDC, CPT, LOINIC mapping "
   ]
  },
  {
   "cell_type": "code",
   "execution_count": 2,
   "metadata": {},
   "outputs": [],
   "source": [
    "#read in the cui embedding \n",
    "cuifile = 'claims_cuis_hs_300.txt.gz'\n",
    "cui_embeddings = {}\n",
    "with gzip.open(cuifile, 'r') as infile:\n",
    "    data = infile.readlines()\n",
    "    for row in data:\n",
    "        eles = row.decode('utf8').strip().split(' ')\n",
    "        name = eles[0]\n",
    "        embedding = ' '.join(eles[1:])\n",
    "        cui_embeddings[name] = embedding"
   ]
  },
  {
   "cell_type": "code",
   "execution_count": 633,
   "metadata": {},
   "outputs": [],
   "source": [
    "\n",
    "ie = 'claims_codes_hs_300.txt.gz'\n",
    "\n",
    "ndc_to_embeddings = {}\n",
    "loinic_to_embedding = {}\n",
    "cpt_to_embedding = {}\n",
    "icd9_to_embedding = {}\n",
    "\n",
    "with gzip.open(ie, 'r') as infile:\n",
    "    data = infile.readlines()\n",
    "    for row in data:\n",
    "        eles = row.decode('utf8').strip().split(' ')\n",
    "        name = eles[0]\n",
    "        embedding = ' '.join(eles[1:])\n",
    "        if name[0] == 'N':\n",
    "            ndc_to_embeddings[name[2:]] = embedding\n",
    "        if name[0] == 'L':\n",
    "            loinic_to_embedding[name[2:]] = embedding\n",
    "        elif name[0] == 'C':\n",
    "            cpt_to_embedding[name[2:]] = embedding           \n",
    "        if name[0] == 'I':\n",
    "            icd9_to_embedding[name[4:]] = embedding\n"
   ]
  },
  {
   "cell_type": "code",
   "execution_count": 634,
   "metadata": {},
   "outputs": [
    {
     "name": "stdout",
     "output_type": "stream",
     "text": [
      "lenght of LOINIC dictionary:  3093\n",
      "lenght of ICD9 dictionary:  14922\n",
      "lenght of NDC dictionary:  21565\n",
      "lenght of CPT dictionary:  11746\n"
     ]
    }
   ],
   "source": [
    "print ('lenght of LOINIC dictionary: ', len(loinic_to_embedding))\n",
    "print ('lenght of ICD9 dictionary: ' ,len(icd9_to_embedding))\n",
    "print ('lenght of NDC dictionary: ' ,len(ndc_to_embeddings))\n",
    "print ('lenght of CPT dictionary: ' ,len(cpt_to_embedding))"
   ]
  },
  {
   "cell_type": "code",
   "execution_count": 641,
   "metadata": {},
   "outputs": [],
   "source": [
    "n_dim = 300\n",
    "\n",
    "#write the Lab embeddings  \n",
    "outfilename = 'loinic_to_embedding.txt'\n",
    "with open(outfilename, 'w') as outfile:\n",
    "    outfile.write('%s %s\\n' %(len(loinic_to_embedding), n_dim))\n",
    "    for lab in loinic_to_embedding:\n",
    "        outfile.write('%s %s\\n' %(lab, loinic_to_embedding[lab]))\n",
    "        \n",
    "#write the ICD9 embeddings  \n",
    "outfilename = 'icd9_embedding.txt'\n",
    "with open(outfilename, 'w') as outfile:\n",
    "    outfile.write('%s %s\\n' %(len(icd9_to_embedding), n_dim))\n",
    "    for icd in icd9_to_embedding:\n",
    "        outfile.write('%s %s\\n' %(icd, icd9_to_embedding[icd]))\n",
    "        \n",
    "#write the NDC embeddings  \n",
    "outfilename = 'ndc_embeddings.txt'\n",
    "with open(outfilename, 'w') as outfile:\n",
    "    outfile.write('%s %s\\n' %(len(ndc_to_embeddings), n_dim))\n",
    "    for ndc in ndc_to_embeddings:\n",
    "        outfile.write('%s %s\\n' %(ndc, ndc_to_embeddings[ndc]))\n",
    "        \n",
    "#write the ICD9 embeddings  \n",
    "outfilename = 'cpt_embedding.txt'\n",
    "with open(outfilename, 'w') as outfile:\n",
    "    outfile.write('%s %s\\n' %(len(cpt_to_embedding), n_dim))\n",
    "    for cpt in cpt_to_embedding:\n",
    "        outfile.write('%s %s\\n' %(cpt, cpt_to_embedding[cpt]))        "
   ]
  },
  {
   "cell_type": "markdown",
   "metadata": {},
   "source": [
    "### convert of the ndc and icd to cui"
   ]
  },
  {
   "cell_type": "code",
   "execution_count": 53,
   "metadata": {},
   "outputs": [],
   "source": [
    "#load the mapping files \n",
    "# using parents with smallest number of child\n",
    "ingredient_to_ndcs = {}\n",
    "with open('doc/ingredient_ndcs.txt', 'r') as infile:\n",
    "    data = infile.readlines()\n",
    "    for row in data:\n",
    "        eles = row.strip().split(' ')\n",
    "        ingredient_to_ndcs[eles[0]] = eles[1:]\n",
    "\n",
    "# using parents with smallest number of child\n",
    "ingredient_to_ndcs = {}\n",
    "with open('doc/ingredient_ndcs.txt', 'r') as infile:\n",
    "    data = infile.readlines()\n",
    "    for row in data:\n",
    "        eles = row.strip().split(' ')\n",
    "        ingredient_to_ndcs[eles[0]] = eles[1:]\n",
    "\n",
    "# using all parents --- this is the method of converting NDCs to CUIs\n",
    "# that we are using for this paper. The below are used in the paper.\n",
    "ingredient_to_all_ndcs = {}\n",
    "with open('doc/ingredient_all_ndcs.txt', 'r') as infile:\n",
    "    data = infile.readlines()\n",
    "    for row in data:\n",
    "        eles = row.strip().split(' ')\n",
    "        ingredient_to_all_ndcs[eles[0]] = eles[1:]\n",
    "        \n",
    "        \n",
    "def get_icd9_cui_mappings():\n",
    "    cui_to_icd9 = {}\n",
    "    icd9_to_cui = {}\n",
    "    with open('doc/cui_icd9.txt', 'r') as infile:\n",
    "        data = infile.readlines()\n",
    "        for row in data:\n",
    "            ele = row.strip().split('|')\n",
    "            if ele[11] == 'ICD9CM':\n",
    "                cui = ele[0]\n",
    "                icd9 = ele[10]\n",
    "                if cui not in cui_to_icd9 and icd9 != '' and '-' not in icd9:\n",
    "                    cui_to_icd9[cui] = icd9\n",
    "                    icd9_to_cui[icd9] = cui\n",
    "    return cui_to_icd9, icd9_to_cui\n"
   ]
  },
  {
   "cell_type": "code",
   "execution_count": 66,
   "metadata": {},
   "outputs": [
    {
     "name": "stdout",
     "output_type": "stream",
     "text": [
      "size of cui to icd9 mapping:  20839\n",
      "size of icd9 to cui mapping:  20839\n"
     ]
    }
   ],
   "source": [
    "cui_to_icd9, icd9_to_cui   =  get_icd9_cui_mappings()\n",
    "print ('size of cui to icd9 mapping: ', len(cui_to_icd9))\n",
    "print ('size of icd9 to cui mapping: ', len(icd9_to_cui))"
   ]
  },
  {
   "cell_type": "code",
   "execution_count": 89,
   "metadata": {},
   "outputs": [],
   "source": [
    "ie = 'claims_codes_hs_300.txt'\n",
    "\n",
    "ndc_to_embeddings = {}\n",
    "icd9_cui_to_embeddings = {}\n",
    "loinic_to_embedding = {}\n",
    "cpt_to_embedding = {}\n",
    "icd9_to_embedding = {}\n",
    "with open(ie, 'r') as infile:\n",
    "    data = infile.readlines()\n",
    "    for row in data:\n",
    "        eles = row.strip().split(' ')\n",
    "        name = eles[0]\n",
    "        embedding = ' '.join(eles[1:])\n",
    "        if name[0] == 'N':\n",
    "            ndc_to_embeddings[name[2:]] = embedding\n",
    "        if name[0] == 'L':\n",
    "            loinic_to_embedding[name[2:]] = embedding\n",
    "        elif name[0] == 'C':\n",
    "            cpt_to_embedding[name[2:]] = embedding           \n",
    "        if name[0] == 'I':\n",
    "            icd9_to_embedding[name[4:]] = embedding\n",
    "            if name[4:] in icd9_to_cui:\n",
    "                cui = icd9_to_cui[name[4:]]\n",
    "                icd9_cui_to_embeddings[cui] = embedding\n"
   ]
  },
  {
   "cell_type": "code",
   "execution_count": 92,
   "metadata": {},
   "outputs": [
    {
     "name": "stdout",
     "output_type": "stream",
     "text": [
      "not found\n",
      "not found\n",
      "not found\n",
      "not found\n",
      "not found\n",
      "not found\n",
      "not found\n"
     ]
    }
   ],
   "source": [
    "#map of the ndc to cui \n",
    "ndc_embeddings = []\n",
    "for ingredient in ingredient_to_all_ndcs.keys():\n",
    "    ndcs = ingredient_to_all_ndcs[ingredient]\n",
    "    embeddings = []\n",
    "    for ndc in ndcs:\n",
    "        if ndc in ndc_to_embeddings:\n",
    "            embedding = np.array(ndc_to_embeddings[ndc].split(' '), dtype = float)\n",
    "            embeddings.append(embedding)\n",
    "    if len(embeddings) > 0:\n",
    "        embeddings = np.array(embeddings)\n",
    "        embedding = np.mean(embeddings, axis=0)\n",
    "        ndc_embeddings.append((ingredient, embedding))\n",
    "    else:\n",
    "        print ('not found')"
   ]
  },
  {
   "cell_type": "markdown",
   "metadata": {},
   "source": [
    "### Map of the Concept ID (CUI) to ICD \n",
    "Similar mapping for the types of ['MSH', 'MTH', 'MEDLINEPLUS', 'NCI_FDA', 'NCI_NICHD', 'NCI', 'CST', 'MDR',\n",
    " 'ICPC2P', 'ICPC2ICD10ENG', 'CCPSS', 'COSTAR', 'DXP', 'WHO', 'LCH', 'RCD', 'RCDSY',\n",
    "'SNM', 'OMIM', 'LNC', 'SNOMEDCT_US', 'LCH_NW', 'HPO', 'NANDA-I','NOC', 'ICD9CM', 'BI',\n",
    " 'CHV', 'MEDCIN', 'SNMI', 'ICPC2EENG', 'ICF-CY', 'ICF', 'ICD10AM', 'ICD10CM', 'ICD10',\n",
    " 'SNOMEDCT_VET','CCS','CCS_10', 'NCI_NCI-GLOSS']"
   ]
  },
  {
   "cell_type": "code",
   "execution_count": 16,
   "metadata": {},
   "outputs": [],
   "source": [
    "#read in the cui embedding \n",
    "cuifile = 'claims_cuis_hs_300.txt.gz'\n",
    "cui_embeddings = {}\n",
    "with gzip.open(cuifile, 'r') as infile:\n",
    "    data = infile.readlines()\n",
    "    for row in data:\n",
    "        eles = row.decode('utf8').strip().split(' ')\n",
    "        name = eles[0]\n",
    "        embedding = ' '.join(eles[1:])\n",
    "        cui_embeddings[name] = embedding"
   ]
  },
  {
   "cell_type": "markdown",
   "metadata": {},
   "source": [
    "#### ICD9 "
   ]
  },
  {
   "cell_type": "code",
   "execution_count": 522,
   "metadata": {},
   "outputs": [],
   "source": [
    "cui_to_icd9cm = {}\n",
    "icd9cm_to_cui = {}\n",
    "with open('MRCONSO.RRF', 'r') as infile:\n",
    "    lines = infile.readlines()\n",
    "    for row in lines:\n",
    "        ele = row.strip().split('|')\n",
    "        if (ele[1] == 'ENG') & (ele[11] in ['ICD9CM']) & (ele[0] not in cui_to_icd9cm) & (ele[10]!= '') & ('-' not in ele[10]): \n",
    "            icd = ele[10] \n",
    "            cui_to_icd9cm[ele[0]] = icd\n",
    "            if (icd not in icd9cm_to_cui):\n",
    "                icd9cm_to_cui[icd] = [ele[0]]\n",
    "            else: \n",
    "                if ele[0] not in icd9cm_to_cui[icd]:\n",
    "                    icd9cm_to_cui[icd].append(ele[0])"
   ]
  },
  {
   "cell_type": "code",
   "execution_count": 523,
   "metadata": {},
   "outputs": [
    {
     "name": "stdout",
     "output_type": "stream",
     "text": [
      "size of cui to icd9cm mapping:  20849\n",
      "size of icd9cm to cui mapping:  20849\n"
     ]
    }
   ],
   "source": [
    "print ('size of cui to icd9cm mapping: ', len(cui_to_icd9cm))\n",
    "print ('size of icd9cm to cui mapping: ', len(icd9cm_to_cui))"
   ]
  },
  {
   "cell_type": "code",
   "execution_count": 524,
   "metadata": {},
   "outputs": [],
   "source": [
    "icd9cm_to_embedding={}\n",
    "for icd in icd9cm_to_cui.keys():\n",
    "    cuis = icd9cm_to_cui[icd]\n",
    "    embeddings = []\n",
    "    for cui in cuis:\n",
    "        if cui in cui_embeddings.keys():\n",
    "            embedding = np.array(cui_embeddings[cui].split(' '), dtype = float)\n",
    "            embeddings.append(embedding)\n",
    "    if len(embeddings) > 0 :\n",
    "        embeddings = np.array(embeddings)\n",
    "        embedding = np.mean(embeddings, axis=0)\n",
    "        icd9cm_to_embedding[icd] = embedding"
   ]
  },
  {
   "cell_type": "code",
   "execution_count": 525,
   "metadata": {},
   "outputs": [
    {
     "name": "stdout",
     "output_type": "stream",
     "text": [
      "size of CUI embedding:  14853\n",
      "size of embedding ICD9 (from the paper):  14922\n",
      "size of embedding ICD9CM:  13867\n"
     ]
    }
   ],
   "source": [
    "print( 'size of CUI embedding: ', len(cui_embeddings))\n",
    "print( 'size of embedding ICD9 (from the paper): ', len(icd9_to_embedding))\n",
    "print( 'size of embedding ICD9CM: ', len(icd9cm_to_embedding))"
   ]
  },
  {
   "cell_type": "code",
   "execution_count": 630,
   "metadata": {},
   "outputs": [],
   "source": [
    "#write the ICD9 embeddings  \n",
    "outfilename = 'icd9cm_embedding.txt'\n",
    "with open(outfilename, 'w') as outfile:\n",
    "    outfile.write('%s %s\\n' %(len(icd9cm_to_embedding), embedding.shape[0]))\n",
    "    for icd in icd9cm_to_embedding:\n",
    "        outfile.write('%s %s\\n' %(icd, icd9cm_to_embedding[icd]))"
   ]
  },
  {
   "cell_type": "markdown",
   "metadata": {},
   "source": [
    "#### ICD10"
   ]
  },
  {
   "cell_type": "code",
   "execution_count": 106,
   "metadata": {},
   "outputs": [],
   "source": [
    "#genereate the mapping of the CUI and ICD10CM \n",
    "cui_to_icd10cm = {}\n",
    "icd10cm_to_cui = {}\n",
    "with open('MRCONSO.RRF', 'r') as infile:\n",
    "    lines = infile.readlines()\n",
    "    for row in lines:\n",
    "        ele = row.strip().split('|')\n",
    "        if (ele[1] == 'ENG') & (ele[11] in ['ICD10CM']) & (ele[0] not in cui_to_icd10cm) & (ele[13]!= '') & ('-' not in ele[13]):\n",
    "            cui_to_icd10cm[ele[0]] = ele[13] \n",
    "            if (ele[13] not in icd10cm_to_cui):\n",
    "                icd10cm_to_cui[ele[13]] = [ele[0]]\n",
    "            else: \n",
    "                if ele[0] not in icd10cm_to_cui[ele[13]]:\n",
    "                    icd10cm_to_cui[ele[13]].append(ele[0] )"
   ]
  },
  {
   "cell_type": "code",
   "execution_count": 74,
   "metadata": {},
   "outputs": [
    {
     "name": "stdout",
     "output_type": "stream",
     "text": [
      "size of icd10 to cui mapping:  92497\n",
      "size of cui to icd10 mapping:  102355\n"
     ]
    }
   ],
   "source": [
    "print('size of icd10 to cui mapping: ', len(icd10cm_to_cui))\n",
    "print('size of cui to icd10 mapping: ', len(cui_to_icd10cm))"
   ]
  },
  {
   "cell_type": "code",
   "execution_count": 50,
   "metadata": {},
   "outputs": [],
   "source": [
    "icd10cm_to_embedding={}\n",
    "\n",
    "for icd in icd10cm_to_cui.keys():\n",
    "    cuis = icd10cm_to_cui[icd]\n",
    "    embeddings = []\n",
    "    for cui in cuis:\n",
    "        if cui in cui_embeddings.keys():\n",
    "            embedding = np.array(cui_embeddings[cui].split(' '), dtype = float)\n",
    "            embeddings.append(embedding)\n",
    "    if len(embeddings) > 0 :\n",
    "        embeddings = np.array(embeddings)\n",
    "        embedding = np.mean(embeddings, axis=0)\n",
    "        icd10cm_to_embedding[icd] = embedding"
   ]
  },
  {
   "cell_type": "code",
   "execution_count": 97,
   "metadata": {},
   "outputs": [
    {
     "name": "stdout",
     "output_type": "stream",
     "text": [
      "size of CUI embedding:  14853\n",
      "size of embedding ICD10CM:  4394\n"
     ]
    }
   ],
   "source": [
    "print( 'size of CUI embedding: ', len(cui_embeddings))\n",
    "print( 'size of embedding ICD10CM: ', len(icd10cm_to_embedding))"
   ]
  },
  {
   "cell_type": "code",
   "execution_count": 643,
   "metadata": {},
   "outputs": [],
   "source": [
    "ndim = 300\n",
    "#write the ICD10 embeddings  \n",
    "outfilename = 'icd10_embedding.txt'\n",
    "with open(outfilename, 'w') as outfile:\n",
    "    outfile.write('%s %s\\n' %(len(icd10cm_to_embedding), ndim))\n",
    "    for icd in icd10cm_to_embedding:\n",
    "        outfile.write('%s %s\\n' %(icd, icd10cm_to_embedding[icd]))"
   ]
  },
  {
   "cell_type": "markdown",
   "metadata": {},
   "source": [
    "### Map of the Concept ID (CUI) to CCS  (for SUB_SUB_HCUP code) "
   ]
  },
  {
   "cell_type": "markdown",
   "metadata": {},
   "source": [
    "#### directly from the CUI to CCS "
   ]
  },
  {
   "cell_type": "code",
   "execution_count": 170,
   "metadata": {},
   "outputs": [],
   "source": [
    "cui_to_ccs = {}\n",
    "ccs_to_cui = {}\n",
    "ccs_dict = {}\n",
    "with open('MRCONSO.RRF', 'r') as infile:\n",
    "    lines = infile.readlines()\n",
    "    for row in lines:\n",
    "        ele = row.strip().split('|')\n",
    "        if (ele[1] == 'ENG') & (ele[11] in ['CCS']) & (ele[0] not in cui_to_ccs) & (ele[12]== 'SD') & ('.' not in ele[13]):\n",
    "            cui_to_ccs[ele[0]] = ele[13] \n",
    "            ccs_dict[ele[13]] = ele[14]\n",
    "            if (ele[13] not in ccs_to_cui):\n",
    "                ccs_to_cui[ele[13]] = [ele[0]]\n",
    "            else: \n",
    "                if ele[0] not in ccs_to_cui[ele[13]]:\n",
    "                    ccs_to_cui[ele[13]].append(ele[0] )"
   ]
  },
  {
   "cell_type": "code",
   "execution_count": 179,
   "metadata": {},
   "outputs": [
    {
     "name": "stdout",
     "output_type": "stream",
     "text": [
      "size of ccs to cui mapping:  280\n",
      "size of cui to ccs mapping:  280\n",
      "size of ccs mapping:  280\n"
     ]
    }
   ],
   "source": [
    "print('size of ccs to cui mapping: ', len(ccs_to_cui))\n",
    "print('size of cui to ccs mapping: ', len(cui_to_ccs))\n",
    "print('size of ccs mapping: ', len(ccs_dict))"
   ]
  },
  {
   "cell_type": "code",
   "execution_count": 173,
   "metadata": {},
   "outputs": [],
   "source": [
    "ccs_to_embedding={}\n",
    "for ccs in ccs_to_cui.keys():\n",
    "    cuis = ccs_to_cui[ccs]\n",
    "    embeddings = []\n",
    "    for cui in cuis:\n",
    "        if cui in cui_embeddings.keys():\n",
    "            embedding = np.array(cui_embeddings[cui].split(' '), dtype = float)\n",
    "            embeddings.append(embedding)\n",
    "    if len(embeddings) > 0 :\n",
    "        embeddings = np.array(embeddings)\n",
    "        embedding = np.mean(embeddings, axis=0)\n",
    "        ccs_to_embedding[ccs] = embedding"
   ]
  },
  {
   "cell_type": "code",
   "execution_count": 267,
   "metadata": {},
   "outputs": [
    {
     "name": "stdout",
     "output_type": "stream",
     "text": [
      "size of ccs embedding:  75\n"
     ]
    }
   ],
   "source": [
    "print('size of ccs embedding: ', len(ccs_to_embedding))"
   ]
  },
  {
   "cell_type": "markdown",
   "metadata": {},
   "source": [
    "#### map from icd9 to ccs "
   ]
  },
  {
   "cell_type": "code",
   "execution_count": 593,
   "metadata": {},
   "outputs": [],
   "source": [
    "icd9_hcup_map = pd.read_csv('doc/ICD9_HCUP_MAP.csv')\n",
    "icd9_hcup_map['diag_part2'] = icd9_hcup_map[['diag_cd', 'diag_firstpart']].apply(lambda x: x.diag_cd[len(x.diag_firstpart):], axis = 1)\n",
    "icd9_hcup_map['diag_firstpart'] = icd9_hcup_map['diag_firstpart'].apply(lambda x: x.zfill(3))\n",
    "icd9_hcup_map['diag_code'] = icd9_hcup_map[['diag_firstpart', 'diag_part2']].apply(lambda x: x.diag_firstpart  if not x.diag_part2  else \n",
    "                                                                                   x.diag_firstpart + '.' + x.diag_part2  , axis = 1)"
   ]
  },
  {
   "cell_type": "code",
   "execution_count": 609,
   "metadata": {},
   "outputs": [
    {
     "name": "stderr",
     "output_type": "stream",
     "text": [
      "/Users/yandanyang/anaconda3/lib/python3.7/site-packages/ipykernel_launcher.py:2: UserWarning: DataFrame columns are not unique, some columns will be omitted.\n",
      "  \n"
     ]
    }
   ],
   "source": [
    "icd9_hcup_map['sub_sub_hcup_cd'] = icd9_hcup_map['sub_sub_hcup_cd'].astype(str)\n",
    "icd9_to_hcup = icd9_hcup_map[['diag_code','sub_sub_hcup_cd']].set_index('diag_code').T.to_dict('list')\n",
    "hcup_to_icd9 = icd9_hcup_map[['diag_code','sub_sub_hcup_cd']].groupby('sub_sub_hcup_cd')['diag_code'].apply(list).to_frame()\n",
    "hcup_to_icd9 = hcup_to_icd9.T.to_dict('list')"
   ]
  },
  {
   "cell_type": "code",
   "execution_count": 610,
   "metadata": {},
   "outputs": [
    {
     "name": "stdout",
     "output_type": "stream",
     "text": [
      "icd9 to ccs size: 14423\n",
      "ccs to icd9 size: 282\n"
     ]
    }
   ],
   "source": [
    "print('icd9 to ccs size:', len(icd9_to_hcup))\n",
    "print('ccs to icd9 size:', len(hcup_to_icd9))"
   ]
  },
  {
   "cell_type": "code",
   "execution_count": 617,
   "metadata": {},
   "outputs": [],
   "source": [
    "ccs_embedding={}\n",
    "for ccs in hcup_to_icd9.keys():\n",
    "    icd9 = hcup_to_icd9[ccs][0]\n",
    "    embeddings = []\n",
    "    for icd in icd9:\n",
    "        if icd in icd9cm_to_embedding.keys():\n",
    "            embedding = icd9cm_to_embedding[icd]\n",
    "            embeddings.append(embedding)\n",
    "    if len(embeddings) > 0 :\n",
    "        embeddings = embeddings\n",
    "        embedding = np.mean(embeddings, axis=0)\n",
    "        ccs_embedding[ccs] = embedding"
   ]
  },
  {
   "cell_type": "code",
   "execution_count": 618,
   "metadata": {},
   "outputs": [
    {
     "name": "stdout",
     "output_type": "stream",
     "text": [
      "size of ccs embedding:  279\n"
     ]
    }
   ],
   "source": [
    "print('size of ccs embedding: ', len(ccs_embedding))"
   ]
  },
  {
   "cell_type": "code",
   "execution_count": 626,
   "metadata": {},
   "outputs": [],
   "source": [
    "#write the CUI embeddings  \n",
    "outfilename = 'ccs_embedding.txt'\n",
    "with open(outfilename, 'w') as outfile:\n",
    "    outfile.write('%s %s\\n' %(len(ccs_embedding), embedding.shape[0]))\n",
    "    for ccs in ccs_embedding:\n",
    "        outfile.write('%s %s\\n' %(ccs, ccs_embedding[ccs]))"
   ]
  },
  {
   "cell_type": "markdown",
   "metadata": {},
   "source": [
    "### ICD9-CUI-CCS "
   ]
  },
  {
   "cell_type": "code",
   "execution_count": 479,
   "metadata": {},
   "outputs": [],
   "source": [
    "# generate ccs to icd9 mapping \n",
    "ccs_to_desc = {}\n",
    "ccs_to_icd9 = {}\n",
    "with open('doc/ccs_icd9.txt', 'r') as infile:\n",
    "    data = infile.readlines()\n",
    "    currect_ccs = ''\n",
    "    for row in data:\n",
    "        if row[:5].strip() != '':\n",
    "            current_ccs = row[:5].strip()\n",
    "            ccs_to_desc[current_ccs] = row[5:].strip()\n",
    "            ccs_to_icd9[current_ccs] = set([])\n",
    "        elif row.strip() != '':\n",
    "            ccs_to_icd9[current_ccs].update(set(row.strip().split(' ')))                    "
   ]
  },
  {
   "cell_type": "markdown",
   "metadata": {},
   "source": [
    "## Concept Mapping "
   ]
  },
  {
   "cell_type": "markdown",
   "metadata": {},
   "source": [
    "### an example, map by the names manually "
   ]
  },
  {
   "cell_type": "code",
   "execution_count": 286,
   "metadata": {},
   "outputs": [],
   "source": [
    "cui_list = cui_embeddings.keys()\n",
    "MRC_names = {}\n",
    "with open('MRCONSO.RRF', 'r') as infile:\n",
    "    lines = infile.readlines()\n",
    "    for row in lines:       \n",
    "        ele = row.strip().split('|')\n",
    "        if (ele[1] == 'ENG') & (ele[0] not in MRC_names) :\n",
    "            MRC_names[ele[0]] = ele[14]  \n",
    "            \n",
    "cui_names = {}\n",
    "for x in cui_list:\n",
    "    if x in MRC_names.keys():\n",
    "        cui_names[x] = MRC_names[x]            "
   ]
  },
  {
   "cell_type": "code",
   "execution_count": 301,
   "metadata": {},
   "outputs": [],
   "source": [
    "cui_names = {}\n",
    "for x in cui_list:\n",
    "    if x in MRC_names.keys():\n",
    "        cui_names[x] = MRC_names[x].lower()          "
   ]
  },
  {
   "cell_type": "code",
   "execution_count": 310,
   "metadata": {},
   "outputs": [],
   "source": [
    "ls = []\n",
    "for x in cui_names.keys():\n",
    "    if ('breast' in cui_names[x]) & ('neoplasm' in cui_names[x]):\n",
    "        ls.append(x)"
   ]
  },
  {
   "cell_type": "code",
   "execution_count": 314,
   "metadata": {},
   "outputs": [
    {
     "name": "stdout",
     "output_type": "stream",
     "text": [
      "C1455990 encounter due to genetic susceptibility to malignant neoplasm of breast\n",
      "C0346156 benign neoplasm of breast\n",
      "C1261325 family history of malignant neoplasm of breast\n",
      "C0153555 malignant neoplasm of other specified sites of female breast\n",
      "C0153558 malignant neoplasm of nipple and areola of male breast\n",
      "C0153559 malignant neoplasm of other and unspecified sites of male breast\n",
      "C0153554 malignant neoplasm of axillary tail of female breast\n",
      "C0153550 malignant neoplasm of upper-inner quadrant of female breast\n",
      "C0153551 malignant neoplasm of lower-inner quadrant of female breast\n",
      "C0153552 malignant neoplasm of upper-outer quadrant of female breast\n",
      "C0153553 malignant neoplasm of lower-outer quadrant of female breast\n",
      "C0260421 personal history of malignant neoplasm of breast\n",
      "C0235653 malignant neoplasm of female breast\n",
      "C0024621 malignant neoplasm of nipple and areola of female breast\n",
      "C0027641 neoplasm of unspecified nature of breast (disorder)\n",
      "C2921311 screening examination for malignant neoplasms of the breast\n",
      "C0346993 secondary malignant neoplasm of female breast\n",
      "C0496956 neoplasm of uncertain or unknown behavior of breast\n",
      "C0153549 malignant neoplasm of central part of female breast\n"
     ]
    }
   ],
   "source": [
    "for i in ls:\n",
    "    if i in cui_names.keys():\n",
    "        print(i, cui_names[i])"
   ]
  },
  {
   "cell_type": "code",
   "execution_count": 364,
   "metadata": {},
   "outputs": [],
   "source": [
    "cui_icd_ccs = {}\n",
    "cui_sub = {}\n",
    "for i in cui_names:\n",
    "    if i in cui_to_icd9:\n",
    "        if cui_to_icd9[i] in icd9_to_hcup:\n",
    "            cui_sub[i] = cui_names[i]\n",
    "            cui_icd_ccs[i] = icd9_to_hcup[cui_to_icd9[i]]            "
   ]
  },
  {
   "cell_type": "markdown",
   "metadata": {},
   "source": [
    "# Embedding from UMLS \n",
    "\n",
    "`stanford_cuis_svd_300.txt.gz`: Embeddings of [UMLS](https://www.nlm.nih.gov/research/umls/) concept unique identifiers (CUIs), derived from 20 million clinical notes spanning 19 years of data from Stanford Hospital and Clinics, using a  [data set](http://datadryad.org/resource/doi:10.5061/dryad.jp917) released in a [paper](http://www.nature.com/articles/sdata201432) by Finlayson, LePendu & Shah.\n",
    "\n"
   ]
  },
  {
   "cell_type": "code",
   "execution_count": 196,
   "metadata": {},
   "outputs": [],
   "source": [
    "#read in the cui embedding \n",
    "svdfile = 'stanford_cuis_svd_300.txt.gz'\n",
    "svd_embeddings = {}\n",
    "with gzip.open(svdfile, 'r') as infile:\n",
    "    data = infile.readlines()\n",
    "    for row in data:\n",
    "        eles = row.decode('utf8').strip().split(' ')\n",
    "        name = eles[0]\n",
    "        embedding = ' '.join(eles[1:])\n",
    "        svd_embeddings[name] = embedding\n",
    "        \n",
    "#Read in the concept_to_CUI map\n",
    "concept_to_CUI_hdr = 'doc/2b_concept_ID_to_CUI.txt'\n",
    "concept_to_CUI_map = {}\n",
    "f = open(concept_to_CUI_hdr, 'r')\n",
    "lines = f.readlines()\n",
    "for line in lines:\n",
    "    concept = line.split('\\t')[0]\n",
    "    CUI = line.split('\\t')[1].split('\\r')[0].splitlines()\n",
    "    concept_to_CUI_map[concept] = CUI\n",
    "\n",
    "cui_svd_embeddings = {}\n",
    "for  line in svd_embeddings.keys():\n",
    "    if line in concept_to_CUI_map.keys():\n",
    "        cui = concept_to_CUI_map[line][0]\n",
    "        cui_svd_embeddings[cui] = svd_embeddings[line]    "
   ]
  },
  {
   "cell_type": "code",
   "execution_count": 198,
   "metadata": {},
   "outputs": [],
   "source": [
    "icd10cm_svd_embedding={}\n",
    "\n",
    "for icd in icd10cm_to_cui.keys():\n",
    "    cuis = icd10cm_to_cui[icd]\n",
    "    embeddings = []\n",
    "    for cui in cuis:\n",
    "        if cui in cui_svd_embeddings.keys():\n",
    "            embedding = np.array(cui_svd_embeddings[cui].split(' '), dtype = float)\n",
    "            embeddings.append(embedding)\n",
    "    if len(embeddings) > 0 :\n",
    "        embeddings = np.array(embeddings)\n",
    "        embedding = np.mean(embeddings, axis=0)\n",
    "        icd10cm_svd_embedding[icd] = embedding"
   ]
  },
  {
   "cell_type": "code",
   "execution_count": 199,
   "metadata": {},
   "outputs": [
    {
     "name": "stdout",
     "output_type": "stream",
     "text": [
      "size of CUI embedding:  22706\n",
      "size of embedding ICD10CM:  3040\n"
     ]
    }
   ],
   "source": [
    "print( 'size of CUI embedding: ', len(svd_embeddings))\n",
    "print( 'size of embedding ICD10CM: ', len(icd10cm_svd_embedding))"
   ]
  },
  {
   "cell_type": "code",
   "execution_count": 201,
   "metadata": {},
   "outputs": [],
   "source": [
    "ccs_to_svd_embedding={}\n",
    "for ccs in ccs_to_cui.keys():\n",
    "    cuis = ccs_to_cui[ccs]\n",
    "    embeddings = []\n",
    "    for cui in cuis:\n",
    "        if cui in cui_svd_embeddings.keys():\n",
    "            embedding = np.array(cui_svd_embeddings[cui].split(' '), dtype = float)\n",
    "            embeddings.append(embedding)\n",
    "    if len(embeddings) > 0 :\n",
    "        embeddings = np.array(embeddings)\n",
    "        embedding = np.mean(embeddings, axis=0)\n",
    "        ccs_to_svd_embedding[ccs] = embedding"
   ]
  },
  {
   "cell_type": "code",
   "execution_count": 202,
   "metadata": {},
   "outputs": [
    {
     "data": {
      "text/plain": [
       "103"
      ]
     },
     "execution_count": 202,
     "metadata": {},
     "output_type": "execute_result"
    }
   ],
   "source": [
    "len(ccs_to_svd_embedding.keys())"
   ]
  },
  {
   "cell_type": "markdown",
   "metadata": {},
   "source": [
    "# Embedding  from Semantic Similarity\n",
    "\n",
    "Results generated from paper: \n",
    "\n",
    " `DeVine_etal_200.txt.gz`: Embeddings of UMLS CUIs learned by [De Vine et al. CIKM '14](http://dl.acm.org/citation.cfm?id=2661974), derived from 348,566 medical journal abstracts (courtesy of the authors).\n"
   ]
  },
  {
   "cell_type": "code",
   "execution_count": 147,
   "metadata": {},
   "outputs": [],
   "source": [
    "#read in the cui embedding \n",
    "file = 'DeVine_etal_200.txt.gz'\n",
    "cui200_embeddings = {}\n",
    "with gzip.open(file, 'r') as infile:\n",
    "    data = infile.readlines()\n",
    "    for row in data:\n",
    "        eles = row.decode('utf8').strip().split(' ')\n",
    "        name = eles[0]\n",
    "        embedding = ' '.join(eles[1:])\n",
    "        cui200_embeddings[name] = embedding"
   ]
  },
  {
   "cell_type": "code",
   "execution_count": 193,
   "metadata": {},
   "outputs": [],
   "source": [
    "icd10cm_DeVine_embedding={}\n",
    "\n",
    "for icd in icd10cm_to_cui.keys():\n",
    "    cuis = icd10cm_to_cui[icd]\n",
    "    embeddings = []\n",
    "    for cui in cuis:\n",
    "        if cui in cui200_embeddings.keys():\n",
    "            embedding = np.array(cui200_embeddings[cui].split(' '), dtype = float)\n",
    "            embeddings.append(embedding)\n",
    "    if len(embeddings) > 0 :\n",
    "        embeddings = np.array(embeddings)\n",
    "        embedding = np.mean(embeddings, axis=0)\n",
    "        icd10cm_DeVine_embedding[icd] = embedding"
   ]
  },
  {
   "cell_type": "code",
   "execution_count": 196,
   "metadata": {},
   "outputs": [
    {
     "name": "stdout",
     "output_type": "stream",
     "text": [
      "size of CUI embedding:  52103\n",
      "size of embedding ICD10CM:  3995\n"
     ]
    }
   ],
   "source": [
    "print( 'size of CUI embedding: ', len(cui200_embeddings))\n",
    "print( 'size of embedding ICD10CM: ', len(icd10cm_DeVine_embedding))"
   ]
  },
  {
   "cell_type": "markdown",
   "metadata": {},
   "source": [
    "# Check the similarity "
   ]
  },
  {
   "cell_type": "code",
   "execution_count": 199,
   "metadata": {},
   "outputs": [],
   "source": [
    "# find the common icd10 \n",
    "icd_ls = []\n",
    "for x in icd10cm_to_embedding.keys():\n",
    "    if x in icd10cm_svd_embedding.keys():\n",
    "        icd_ls.append(x)"
   ]
  },
  {
   "cell_type": "code",
   "execution_count": 203,
   "metadata": {},
   "outputs": [
    {
     "name": "stdout",
     "output_type": "stream",
     "text": [
      "1.0281133579317911\n",
      "0.9653097554607961\n",
      "0.8929884075824519\n",
      "1.0250823382441114\n",
      "1.0351952733075056\n",
      "1.0134070325694438\n",
      "0.9385475067068678\n",
      "0.9235336549321366\n",
      "0.8525211368621229\n",
      "1.0208316444842074\n",
      "0.9565962753014222\n",
      "1.0471509774815773\n",
      "1.0578278027958175\n",
      "0.9626119194801128\n",
      "1.0699642739287951\n",
      "1.058134600588414\n",
      "0.972127745445609\n",
      "0.9520061647935075\n",
      "1.0166671695986844\n",
      "0.9633936535634939\n"
     ]
    }
   ],
   "source": [
    "for x in icd_ls[:20]:\n",
    "    print(cosine(icd10cm_to_embedding[x],icd10cm_svd_embedding[x]))"
   ]
  },
  {
   "cell_type": "code",
   "execution_count": null,
   "metadata": {},
   "outputs": [],
   "source": []
  }
 ],
 "metadata": {
  "kernelspec": {
   "display_name": "Python 3",
   "language": "python",
   "name": "python3"
  },
  "language_info": {
   "codemirror_mode": {
    "name": "ipython",
    "version": 3
   },
   "file_extension": ".py",
   "mimetype": "text/x-python",
   "name": "python",
   "nbconvert_exporter": "python",
   "pygments_lexer": "ipython3",
   "version": "3.7.6"
  }
 },
 "nbformat": 4,
 "nbformat_minor": 2
}
