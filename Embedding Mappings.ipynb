{
 "cells": [
  {
   "cell_type": "code",
   "execution_count": 49,
   "metadata": {},
   "outputs": [],
   "source": [
    "from __future__ import division\n",
    "import argparse\n",
    "import numpy as np\n",
    "import scipy as sp\n",
    "from scipy.spatial.distance import cosine\n",
    "import gzip"
   ]
  },
  {
   "cell_type": "markdown",
   "metadata": {},
   "source": [
    "# Embedding for Medical Concept\n",
    "\n",
    "Results from paper\n",
    "<b> Y. Choi, Y. Chiu, D. Sontag. <a href=\"http://cs.nyu.edu/~dsontag/papers/ChoiChiuSontag_AMIA_CRI16.pdf\">Learning Low-Dimensional Representations of Medical Concepts</a>. Published in Proceedings of the AMIA Summit on Clinical Research Informatics (CRI), 2016.</b>\n",
    "\n",
    " `claims_codes_hs_300.txt.gz`: Embeddings of ICD-9 diagnosis and procedure codes, NDC medication codes, and LOINC laboratory codes, derived from a large claims dataset from 2005 to 2013 for roughly 4 million people.\n",
    "\n"
   ]
  },
  {
   "cell_type": "markdown",
   "metadata": {},
   "source": [
    "### Load the CUI, ICD9, NDC, CPT, LOINIC mapping "
   ]
  },
  {
   "cell_type": "code",
   "execution_count": 94,
   "metadata": {},
   "outputs": [],
   "source": [
    "#read in the cui embedding \n",
    "#read in the cui embedding \n",
    "cuifile = 'claims_cuis_hs_300.txt.gz'\n",
    "cui_embeddings = {}\n",
    "with gzip.open(cuifile, 'r') as infile:\n",
    "    data = infile.readlines()\n",
    "    for row in data:\n",
    "        eles = row.decode('utf8').strip().split(' ')\n",
    "        name = eles[0]\n",
    "        embedding = ' '.join(eles[1:])\n",
    "        cui_embeddings[name] = embedding"
   ]
  },
  {
   "cell_type": "code",
   "execution_count": null,
   "metadata": {},
   "outputs": [],
   "source": [
    "ie = 'claims_codes_hs_300.txt'\n",
    "\n",
    "ndc_to_embeddings = {}\n",
    "loinic_to_embedding = {}\n",
    "cpt_to_embedding = {}\n",
    "icd9_to_embedding = {}\n",
    "\n",
    "with open(ie, 'r') as infile:\n",
    "    data = infile.readlines()\n",
    "    for row in data:\n",
    "        eles = row.strip().split(' ')\n",
    "        name = eles[0]\n",
    "        embedding = ' '.join(eles[1:])\n",
    "        if name[0] == 'N':\n",
    "            ndc_to_embeddings[name[2:]] = embedding\n",
    "        if name[0] == 'L':\n",
    "            loinic_to_embedding[name[2:]] = embedding\n",
    "        elif name[0] == 'C':\n",
    "            cpt_to_embedding[name[2:]] = embedding           \n",
    "        if name[0] == 'I':\n",
    "            icd9_to_embedding[name[4:]] = embedding\n"
   ]
  },
  {
   "cell_type": "code",
   "execution_count": 91,
   "metadata": {},
   "outputs": [
    {
     "name": "stdout",
     "output_type": "stream",
     "text": [
      "lenght of LOINIC dictionary:  3093\n",
      "lenght of ICD9 dictionary:  14039\n",
      "lenght of NDC dictionary:  21565\n",
      "lenght of CPT dictionary:  11746\n"
     ]
    }
   ],
   "source": [
    "print ('lenght of LOINIC dictionary: ', len(loinic_to_embedding))\n",
    "print ('lenght of ICD9 dictionary: ' ,len(icd9_to_embedding))\n",
    "print ('lenght of NDC dictionary: ' ,len(ndc_to_embeddings))\n",
    "print ('lenght of CPT dictionary: ' ,len(cpt_to_embedding))"
   ]
  },
  {
   "cell_type": "code",
   "execution_count": 97,
   "metadata": {},
   "outputs": [],
   "source": [
    "#### if convert of the ndc and icd to cui"
   ]
  },
  {
   "cell_type": "code",
   "execution_count": 53,
   "metadata": {},
   "outputs": [],
   "source": [
    "#load the mapping files \n",
    "# using parents with smallest number of child\n",
    "ingredient_to_ndcs = {}\n",
    "with open('eval/ingredient_ndcs.txt', 'r') as infile:\n",
    "    data = infile.readlines()\n",
    "    for row in data:\n",
    "        eles = row.strip().split(' ')\n",
    "        ingredient_to_ndcs[eles[0]] = eles[1:]\n",
    "\n",
    "# using parents with smallest number of child\n",
    "ingredient_to_ndcs = {}\n",
    "with open('eval/ingredient_ndcs.txt', 'r') as infile:\n",
    "    data = infile.readlines()\n",
    "    for row in data:\n",
    "        eles = row.strip().split(' ')\n",
    "        ingredient_to_ndcs[eles[0]] = eles[1:]\n",
    "\n",
    "# using all parents --- this is the method of converting NDCs to CUIs\n",
    "# that we are using for this paper. The below are used in the paper.\n",
    "ingredient_to_all_ndcs = {}\n",
    "with open('eval/ingredient_all_ndcs.txt', 'r') as infile:\n",
    "    data = infile.readlines()\n",
    "    for row in data:\n",
    "        eles = row.strip().split(' ')\n",
    "        ingredient_to_all_ndcs[eles[0]] = eles[1:]\n",
    "        \n",
    "        \n",
    "def get_icd9_cui_mappings():\n",
    "    cui_to_icd9 = {}\n",
    "    icd9_to_cui = {}\n",
    "    with open('eval/cui_icd9.txt', 'r') as infile:\n",
    "        data = infile.readlines()\n",
    "        for row in data:\n",
    "            ele = row.strip().split('|')\n",
    "            if ele[11] == 'ICD9CM':\n",
    "                cui = ele[0]\n",
    "                icd9 = ele[10]\n",
    "                if cui not in cui_to_icd9 and icd9 != '' and '-' not in icd9:\n",
    "                    cui_to_icd9[cui] = icd9\n",
    "                    icd9_to_cui[icd9] = cui\n",
    "    return cui_to_icd9, icd9_to_cui\n"
   ]
  },
  {
   "cell_type": "code",
   "execution_count": 89,
   "metadata": {},
   "outputs": [],
   "source": [
    "ie = 'claims_codes_hs_300.txt'\n",
    "\n",
    "ndc_to_embeddings = {}\n",
    "icd9_cui_to_embeddings = {}\n",
    "loinic_to_embedding = {}\n",
    "cpt_to_embedding = {}\n",
    "icd9_to_embedding = {}\n",
    "with open(ie, 'r') as infile:\n",
    "    data = infile.readlines()\n",
    "    for row in data:\n",
    "        eles = row.strip().split(' ')\n",
    "        name = eles[0]\n",
    "        embedding = ' '.join(eles[1:])\n",
    "        if name[0] == 'N':\n",
    "            ndc_to_embeddings[name[2:]] = embedding\n",
    "        if name[0] == 'L':\n",
    "            loinic_to_embedding[name[2:]] = embedding\n",
    "        elif name[0] == 'C':\n",
    "            cpt_to_embedding[name[2:]] = embedding           \n",
    "        if name[0] == 'I':\n",
    "            icd9_to_embedding[name[4:]] = embedding\n",
    "            if name[4:] in icd9_to_cui:\n",
    "                cui = icd9_to_cui[name[4:]]\n",
    "                icd9_cui_to_embeddings[cui] = embedding\n"
   ]
  },
  {
   "cell_type": "code",
   "execution_count": 92,
   "metadata": {},
   "outputs": [
    {
     "name": "stdout",
     "output_type": "stream",
     "text": [
      "not found\n",
      "not found\n",
      "not found\n",
      "not found\n",
      "not found\n",
      "not found\n",
      "not found\n"
     ]
    }
   ],
   "source": [
    "#map of the ndc and icd9 to cui \n",
    "ndc_embeddings = []\n",
    "for ingredient in ingredient_to_all_ndcs.keys():\n",
    "    ndcs = ingredient_to_all_ndcs[ingredient]\n",
    "    embeddings = []\n",
    "    for ndc in ndcs:\n",
    "        if ndc in ndc_to_embeddings:\n",
    "            embedding = np.array(ndc_to_embeddings[ndc].split(' '), dtype = float)\n",
    "            embeddings.append(embedding)\n",
    "    if len(embeddings) > 0:\n",
    "        embeddings = np.array(embeddings)\n",
    "        embedding = np.mean(embeddings, axis=0)\n",
    "        ndc_embeddings.append((ingredient, embedding))\n",
    "    else:\n",
    "        print ('not found')"
   ]
  },
  {
   "cell_type": "code",
   "execution_count": null,
   "metadata": {},
   "outputs": [],
   "source": [
    "#write the CUI embeddings  \n",
    "outfilename = 'claims_cuis_hs_300.txt'\n",
    "with open(outfilename, 'w') as outfile:\n",
    "    outfile.write('%s %s\\n' %(len(ndc_embeddings) + len(icd9_cui_to_embeddings), embedding.shape[0]))\n",
    "    for (ingredient, embedding) in ndc_embeddings:\n",
    "        outfile.write('%s ' %(ingredient))\n",
    "        for i in range(embedding.shape[0]):\n",
    "            outfile.write('%.6f ' %(embedding[i]))\n",
    "        outfile.write('\\n')\n",
    "    for cui in icd9_cui_to_embeddings:\n",
    "        outfile.write('%s %s\\n' %(cui, icd9_cui_to_embeddings[cui]))\n"
   ]
  },
  {
   "cell_type": "markdown",
   "metadata": {},
   "source": [
    "### Map of the Concept ID (CUI) to ICD \n",
    "Similar mapping for the types of ['MSH', 'MTH', 'MEDLINEPLUS', 'NCI_FDA', 'NCI_NICHD', 'NCI', 'CST', 'MDR',\n",
    " 'ICPC2P', 'ICPC2ICD10ENG', 'CCPSS', 'COSTAR', 'DXP', 'WHO', 'LCH', 'RCD', 'RCDSY',\n",
    "'SNM', 'OMIM', 'LNC', 'SNOMEDCT_US', 'LCH_NW', 'HPO', 'NANDA-I','NOC', 'ICD9CM', 'BI',\n",
    " 'CHV', 'MEDCIN', 'SNMI', 'ICPC2EENG', 'ICF-CY', 'ICF', 'ICD10AM', 'ICD10CM', 'ICD10',\n",
    " 'SNOMEDCT_VET','CCS','CCS_10', 'NCI_NCI-GLOSS']"
   ]
  },
  {
   "cell_type": "code",
   "execution_count": 113,
   "metadata": {},
   "outputs": [],
   "source": [
    "#read in the cui embedding \n",
    "cuifile = 'claims_cuis_hs_300.txt.gz'\n",
    "cui_embeddings = {}\n",
    "with gzip.open(cuifile, 'r') as infile:\n",
    "    data = infile.readlines()\n",
    "    for row in data:\n",
    "        eles = row.decode('utf8').strip().split(' ')\n",
    "        name = eles[0]\n",
    "        embedding = ' '.join(eles[1:])\n",
    "        cui_embeddings[name] = embedding"
   ]
  },
  {
   "cell_type": "code",
   "execution_count": 122,
   "metadata": {},
   "outputs": [],
   "source": [
    "#genereate the mapping of the CUI and ICD10CM \n",
    "cui_to_icd10cm = {}\n",
    "icd10cm_to_cui = {}\n",
    "with open('MRCONSO.RRF', 'r') as infile:\n",
    "    lines = infile.readlines()\n",
    "    for row in lines:\n",
    "        datum = row.strip().split('|')\n",
    "        if (datum[1] == 'ENG') & (datum[11] in ['ICD10CM']) & (datum[0] not in cui_to_icd10cm):\n",
    "            cui_to_icd10cm[datum[0]] = datum[13] \n",
    "            if (datum[13] not in icd10cm_to_cui):\n",
    "                icd10cm_to_cui[datum[13]] = [datum[0]]\n",
    "            else: \n",
    "                if datum[0] not in icd10cm_to_cui[datum[13]]:\n",
    "                    icd10cm_to_cui[datum[13]].append(datum[0] )"
   ]
  },
  {
   "cell_type": "code",
   "execution_count": 174,
   "metadata": {},
   "outputs": [],
   "source": [
    "icd10cm_to_embedding={}\n",
    "\n",
    "for icd in icd10cm_to_cui.keys():\n",
    "    cuis = icd10cm_to_cui[icd]\n",
    "    embeddings = []\n",
    "    for cui in cuis:\n",
    "        if cui in cui_embeddings.keys():\n",
    "            embedding = np.array(cui_embeddings[cui].split(' '), dtype = float)\n",
    "            embeddings.append(embedding)\n",
    "    if len(embeddings) > 0 :\n",
    "        embeddings = np.array(embeddings)\n",
    "        embedding = np.mean(embeddings, axis=0)\n",
    "        icd10cm_to_embedding[icd] = embedding"
   ]
  },
  {
   "cell_type": "code",
   "execution_count": 198,
   "metadata": {},
   "outputs": [
    {
     "name": "stdout",
     "output_type": "stream",
     "text": [
      "size of CUI embedding:  14853\n",
      "size of embedding ICD10CM:  4394\n"
     ]
    }
   ],
   "source": [
    "print( 'size of CUI embedding: ', len(cui_embeddings))\n",
    "print( 'size of embedding ICD10CM: ', len(icd10cm_to_embedding))"
   ]
  },
  {
   "cell_type": "markdown",
   "metadata": {},
   "source": [
    "# Embedding from UMLS \n",
    "\n",
    "`stanford_cuis_svd_300.txt.gz`: Embeddings of [UMLS](https://www.nlm.nih.gov/research/umls/) concept unique identifiers (CUIs), derived from 20 million clinical notes spanning 19 years of data from Stanford Hospital and Clinics, using a  [data set](http://datadryad.org/resource/doi:10.5061/dryad.jp917) released in a [paper](http://www.nature.com/articles/sdata201432) by Finlayson, LePendu & Shah.\n",
    "\n"
   ]
  },
  {
   "cell_type": "code",
   "execution_count": 158,
   "metadata": {},
   "outputs": [],
   "source": [
    "#read in the cui embedding \n",
    "svdfile = 'stanford_cuis_svd_300.txt.gz'\n",
    "svd_embeddings = {}\n",
    "with gzip.open(svdfile, 'r') as infile:\n",
    "    data = infile.readlines()\n",
    "    for row in data:\n",
    "        eles = row.decode('utf8').strip().split(' ')\n",
    "        name = eles[0]\n",
    "        embedding = ' '.join(eles[1:])\n",
    "        svd_embeddings[name] = embedding\n",
    "        \n",
    "#Read in the concept_to_CUI map\n",
    "concept_to_CUI_hdr = 'eval/2b_concept_ID_to_CUI.txt'\n",
    "concept_to_CUI_map = {}\n",
    "f = open(concept_to_CUI_hdr, 'r')\n",
    "lines = f.readlines()\n",
    "for line in lines:\n",
    "    concept = line.split('\\t')[0]\n",
    "    CUI = line.split('\\t')[1].split('\\r')[0].splitlines()\n",
    "    concept_to_CUI_map[concept] = CUI\n",
    "\n",
    "cui_svd_embeddings = {}\n",
    "for  line in svd_embeddings.keys():\n",
    "    if line in concept_to_CUI_map.keys():\n",
    "        cui = concept_to_CUI_map[line][0]\n",
    "        cui_svd_embeddings[cui] = svd_embeddings[line]    "
   ]
  },
  {
   "cell_type": "code",
   "execution_count": 184,
   "metadata": {},
   "outputs": [],
   "source": [
    "icd10cm_svd_embedding={}\n",
    "\n",
    "for icd in icd10cm_to_cui.keys():\n",
    "    cuis = icd10cm_to_cui[icd]\n",
    "    embeddings = []\n",
    "    for cui in cuis:\n",
    "        if cui in cui_svd_embeddings.keys():\n",
    "            embedding = np.array(cui_svd_embeddings[cui].split(' '), dtype = float)\n",
    "            embeddings.append(embedding)\n",
    "    if len(embeddings) > 0 :\n",
    "        embeddings = np.array(embeddings)\n",
    "        embedding = np.mean(embeddings, axis=0)\n",
    "        icd10cm_svd_embedding[icd] = embedding"
   ]
  },
  {
   "cell_type": "code",
   "execution_count": 197,
   "metadata": {},
   "outputs": [
    {
     "name": "stdout",
     "output_type": "stream",
     "text": [
      "size of CUI embedding:  22706\n",
      "size of embedding ICD10CM:  3063\n"
     ]
    }
   ],
   "source": [
    "print( 'size of CUI embedding: ', len(svd_embeddings))\n",
    "print( 'size of embedding ICD10CM: ', len(icd10cm_svd_embedding))"
   ]
  },
  {
   "cell_type": "markdown",
   "metadata": {},
   "source": [
    "# Embedding  from Semantic Similarity\n",
    "\n",
    "Results generated from paper: \n",
    "\n",
    " `DeVine_etal_200.txt.gz`: Embeddings of UMLS CUIs learned by [De Vine et al. CIKM '14](http://dl.acm.org/citation.cfm?id=2661974), derived from 348,566 medical journal abstracts (courtesy of the authors).\n"
   ]
  },
  {
   "cell_type": "code",
   "execution_count": 147,
   "metadata": {},
   "outputs": [],
   "source": [
    "#read in the cui embedding \n",
    "file = 'DeVine_etal_200.txt.gz'\n",
    "cui200_embeddings = {}\n",
    "with gzip.open(file, 'r') as infile:\n",
    "    data = infile.readlines()\n",
    "    for row in data:\n",
    "        eles = row.decode('utf8').strip().split(' ')\n",
    "        name = eles[0]\n",
    "        embedding = ' '.join(eles[1:])\n",
    "        cui200_embeddings[name] = embedding"
   ]
  },
  {
   "cell_type": "code",
   "execution_count": 193,
   "metadata": {},
   "outputs": [],
   "source": [
    "icd10cm_DeVine_embedding={}\n",
    "\n",
    "for icd in icd10cm_to_cui.keys():\n",
    "    cuis = icd10cm_to_cui[icd]\n",
    "    embeddings = []\n",
    "    for cui in cuis:\n",
    "        if cui in cui200_embeddings.keys():\n",
    "            embedding = np.array(cui200_embeddings[cui].split(' '), dtype = float)\n",
    "            embeddings.append(embedding)\n",
    "    if len(embeddings) > 0 :\n",
    "        embeddings = np.array(embeddings)\n",
    "        embedding = np.mean(embeddings, axis=0)\n",
    "        icd10cm_DeVine_embedding[icd] = embedding"
   ]
  },
  {
   "cell_type": "code",
   "execution_count": 196,
   "metadata": {},
   "outputs": [
    {
     "name": "stdout",
     "output_type": "stream",
     "text": [
      "size of CUI embedding:  52103\n",
      "size of embedding ICD10CM:  3995\n"
     ]
    }
   ],
   "source": [
    "print( 'size of CUI embedding: ', len(cui200_embeddings))\n",
    "print( 'size of embedding ICD10CM: ', len(icd10cm_DeVine_embedding))"
   ]
  },
  {
   "cell_type": "markdown",
   "metadata": {},
   "source": [
    "# Check the similarity "
   ]
  },
  {
   "cell_type": "code",
   "execution_count": 199,
   "metadata": {},
   "outputs": [],
   "source": [
    "# find the common icd10 \n",
    "icd_ls = []\n",
    "for x in icd10cm_to_embedding.keys():\n",
    "    if x in icd10cm_svd_embedding.keys():\n",
    "        icd_ls.append(x)"
   ]
  },
  {
   "cell_type": "code",
   "execution_count": 203,
   "metadata": {},
   "outputs": [
    {
     "name": "stdout",
     "output_type": "stream",
     "text": [
      "1.0281133579317911\n",
      "0.9653097554607961\n",
      "0.8929884075824519\n",
      "1.0250823382441114\n",
      "1.0351952733075056\n",
      "1.0134070325694438\n",
      "0.9385475067068678\n",
      "0.9235336549321366\n",
      "0.8525211368621229\n",
      "1.0208316444842074\n",
      "0.9565962753014222\n",
      "1.0471509774815773\n",
      "1.0578278027958175\n",
      "0.9626119194801128\n",
      "1.0699642739287951\n",
      "1.058134600588414\n",
      "0.972127745445609\n",
      "0.9520061647935075\n",
      "1.0166671695986844\n",
      "0.9633936535634939\n"
     ]
    }
   ],
   "source": [
    "for x in icd_ls[:20]:\n",
    "    print(cosine(icd10cm_to_embedding[x],icd10cm_svd_embedding[x]))"
   ]
  },
  {
   "cell_type": "code",
   "execution_count": null,
   "metadata": {},
   "outputs": [],
   "source": []
  }
 ],
 "metadata": {
  "kernelspec": {
   "display_name": "Python 3",
   "language": "python",
   "name": "python3"
  },
  "language_info": {
   "codemirror_mode": {
    "name": "ipython",
    "version": 3
   },
   "file_extension": ".py",
   "mimetype": "text/x-python",
   "name": "python",
   "nbconvert_exporter": "python",
   "pygments_lexer": "ipython3",
   "version": "3.7.1"
  }
 },
 "nbformat": 4,
 "nbformat_minor": 2
}
